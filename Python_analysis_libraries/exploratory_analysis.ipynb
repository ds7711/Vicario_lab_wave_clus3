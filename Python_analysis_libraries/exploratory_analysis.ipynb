{
 "cells": [
  {
   "cell_type": "markdown",
   "metadata": {},
   "source": [
    "## verify neural discriminability with decoding accuracy\n",
    "\n",
    "1. Check intermediate results, not just the end results.\n",
    "2. Decoding at the single neuron/electrode level.\n",
    "3. Decoding at the population level.\n",
    "4. Test with one bird, one electrode.\n",
    "\n",
    "5. Use dynamic time warping to calculate the mapping X --> Y. \n",
    "6. Use the calculated relationship to manipulate the responses X into X', where X' is a lengthened or shrinkaged version of X.\n",
    "7. After the warping, one could compare the neural responses to different variant. This can be used to test how sensitive neurons are to acoustic variations & small variations in inter-syllable intervals.\n",
    "8. \n",
    "\n"
   ]
  },
  {
   "cell_type": "markdown",
   "metadata": {},
   "source": [
    "## things 2 check for all experiments\n",
    "\n",
    "1. electrode codes are consistent: left 100 to 1500, right 1700 to 3100.\n",
    "2. check a few electrodes (left + right) from every bird.\n",
    "    * verify the MUA and SUA by checking the raster plot.\n",
    "    * verify that stimulus code, starting and ending time makes sense.\n",
    "    * verify that firing rate calculation makes sense.\n",
    "4. check experiment-specific things.\n",
    "    * stimulus sequence."
   ]
  },
  {
   "cell_type": "code",
   "execution_count": 1,
   "metadata": {},
   "outputs": [],
   "source": [
    "# import required modules\n",
    "import matplotlib.pylab as plt\n",
    "%matplotlib inline\n",
    "import numpy as np\n",
    "from librosa.core import dtw\n",
    "import pandas as pd\n",
    "import seaborn as sns\n",
    "import matplotlib.ticker as ticker\n",
    "sns.set_context(\"talk\")\n",
    "sns.set()\n",
    "sns.set_style(\"whitegrid\", {'grid.linestyle': '--'})\n",
    "import pdb\n",
    "import scipy\n",
    "from ipywidgets import interact, interactive, fixed, IntSlider\n",
    "\n",
    "\n",
    "default_figsize = (10, 6)\n",
    "\n",
    "# for importing customized figures\n",
    "import sys\n",
    "import mdlab as mdl\n",
    "import variant_encoding_lib as vel\n",
    "import variant_decoding as vd\n",
    "\n",
    "figsize = default_figsize"
   ]
  },
  {
   "cell_type": "code",
   "execution_count": 2,
   "metadata": {},
   "outputs": [],
   "source": [
    "frcc = mdl.FRCC(trailing_type=\"proportional\", trailing_prop=0.5)\n",
    "DAC = {\"step_size\": 100,  # step size for calcualting responses\n",
    "       \"repetitions\": 40,  # number of repetitions per stimulus\n",
    "       \"critical_value\": 0.01, \n",
    "       \"st_trial\": 6,  # starting & ending trial for adaptation rate calculation\n",
    "       \"ed_trial\": 25,\n",
    "       \"normalize\": True,\n",
    "       \"cost\": \"euclidean\"\n",
    "      }"
   ]
  },
  {
   "cell_type": "markdown",
   "metadata": {},
   "source": [
    "## hyper parameters"
   ]
  },
  {
   "cell_type": "code",
   "execution_count": 5,
   "metadata": {},
   "outputs": [
    {
     "name": "stdout",
     "output_type": "stream",
     "text": [
      "['NB001' 'NB002' 'NB003' 'NB004' 'NB005' 'NB006' 'NB007' 'NB008' 'NT077'\n",
      " 'WE067' 'WE073' 'WE084' 'WE094' 'WE100' 'WE120']\n"
     ]
    }
   ],
   "source": [
    "condition = \"blocked\"\n",
    "data_name = mdl.data_folder + condition + \".npz\"\n",
    "spikedata, stim = mdl.load_NpzData2SpikeData(data_name, convert_birdid=True)\n",
    "print(spikedata.birdid)"
   ]
  },
  {
   "cell_type": "code",
   "execution_count": 55,
   "metadata": {},
   "outputs": [],
   "source": [
    "bird = \"WE120\"\n",
    "birddata = spikedata.get_kw_SpikeData(birdid=bird)\n",
    "num_ele = len(birddata.electrodes)"
   ]
  },
  {
   "cell_type": "code",
   "execution_count": 56,
   "metadata": {},
   "outputs": [
    {
     "data": {
      "application/vnd.jupyter.widget-view+json": {
       "model_id": "f3871f20f06d4f5ca370675296341387",
       "version_major": 2,
       "version_minor": 0
      },
      "text/plain": [
       "aW50ZXJhY3RpdmUoY2hpbGRyZW49KEludFNsaWRlcih2YWx1ZT0wLCBkZXNjcmlwdGlvbj11J2VsZV9jb2RlJywgbWF4PTQzKSwgT3V0cHV0KCkpLCBfZG9tX2NsYXNzZXM9KHUnd2lkZ2V0LWnigKY=\n"
      ]
     },
     "metadata": {},
     "output_type": "display_data"
    }
   ],
   "source": [
    "@interact\n",
    "def explore_analysis(ele_code=IntSlider(min=0, max=num_ele-1, step=1), bird_data=fixed(birddata)):\n",
    "    ele = bird_data.electrodes[ele_code]\n",
    "    ele_data = bird_data.get_kw_SpikeData(electrode=ele)\n",
    "    mdl.heat_plot(ele_data.spikes)\n",
    "#     plt.xlim(150, 350)\n",
    "#     mdl.raster_plot(ele_data.spikes)\n",
    "    \n",
    "#     stim_data = ele_data.get_kw_SpikeData(stim=ele_data.stim[0])\n",
    "#     mdl.raster_plot(stim_data.spikes)\n",
    "#     plt.xlim(1.5, 4)\n",
    "#     plt.xlim()\n",
    "    print ele_data.header.head(1)\n",
    "    print(ele_data.site_stats())\n"
   ]
  },
  {
   "cell_type": "code",
   "execution_count": 44,
   "metadata": {},
   "outputs": [
    {
     "data": {
      "image/png": "[encoded data removed]",
      "text/plain": [
       "<Figure size 360x288 with 1 Axes>"
      ]
     },
     "execution_count": 44,
     "metadata": {},
     "output_type": "execute_result"
    },
    {
     "data": {
      "image/png": "[encoded data removed]",
      "text/plain": [
       "<Figure size 360x288 with 1 Axes>"
      ]
     },
     "metadata": {
      "needs_background": "light"
     },
     "output_type": "display_data"
    }
   ],
   "source": [
    "ele = 1700\n",
    "ele_data = birddata.get_kw_SpikeData(electrode=ele)\n",
    "mdl.raster_plot(ele_data.spikes)"
   ]
  },
  {
   "cell_type": "code",
   "execution_count": null,
   "metadata": {},
   "outputs": [],
   "source": []
  },
  {
   "cell_type": "code",
   "execution_count": null,
   "metadata": {},
   "outputs": [],
   "source": []
  },
  {
   "cell_type": "markdown",
   "metadata": {
    "collapsed": true
   },
   "source": [
    "## decoding analysis"
   ]
  },
  {
   "cell_type": "code",
   "execution_count": null,
   "metadata": {},
   "outputs": [],
   "source": []
  },
  {
   "cell_type": "code",
   "execution_count": null,
   "metadata": {
    "collapsed": true
   },
   "outputs": [],
   "source": []
  },
  {
   "cell_type": "markdown",
   "metadata": {},
   "source": [
    "## PSTH every 5 trials"
   ]
  },
  {
   "cell_type": "code",
   "execution_count": 24,
   "metadata": {},
   "outputs": [
    {
     "data": {
      "text/plain": [
       "1"
      ]
     },
     "execution_count": 24,
     "metadata": {},
     "output_type": "execute_result"
    }
   ],
   "source": [
    "spikedata.stim[0]"
   ]
  },
  {
   "cell_type": "markdown",
   "metadata": {
    "collapsed": true
   },
   "source": [
    "## check the neural discriminability before normalization"
   ]
  },
  {
   "cell_type": "code",
   "execution_count": null,
   "metadata": {
    "collapsed": true
   },
   "outputs": [],
   "source": []
  },
  {
   "cell_type": "code",
   "execution_count": 75,
   "metadata": {
    "collapsed": true
   },
   "outputs": [],
   "source": []
  },
  {
   "cell_type": "code",
   "execution_count": null,
   "metadata": {
    "collapsed": true
   },
   "outputs": [],
   "source": []
  },
  {
   "cell_type": "markdown",
   "metadata": {},
   "source": [
    "## how does neural discriminability change with the difference in stimulus duration"
   ]
  },
  {
   "cell_type": "code",
   "execution_count": 76,
   "metadata": {
    "collapsed": true
   },
   "outputs": [],
   "source": []
  },
  {
   "cell_type": "markdown",
   "metadata": {},
   "source": [
    "## decoding"
   ]
  },
  {
   "cell_type": "code",
   "execution_count": null,
   "metadata": {
    "collapsed": true
   },
   "outputs": [],
   "source": []
  },
  {
   "cell_type": "code",
   "execution_count": null,
   "metadata": {
    "collapsed": true
   },
   "outputs": [],
   "source": []
  },
  {
   "cell_type": "code",
   "execution_count": null,
   "metadata": {
    "collapsed": true
   },
   "outputs": [],
   "source": []
  },
  {
   "cell_type": "code",
   "execution_count": null,
   "metadata": {
    "collapsed": true
   },
   "outputs": [],
   "source": []
  },
  {
   "cell_type": "code",
   "execution_count": null,
   "metadata": {
    "collapsed": true
   },
   "outputs": [],
   "source": []
  },
  {
   "cell_type": "code",
   "execution_count": null,
   "metadata": {
    "collapsed": true
   },
   "outputs": [],
   "source": []
  }
 ],
 "metadata": {
  "kernelspec": {
   "display_name": "Python 2",
   "language": "python",
   "name": "python2"
  },
  "language_info": {
   "codemirror_mode": {
    "name": "ipython",
    "version": 2
   },
   "file_extension": ".py",
   "mimetype": "text/x-python",
   "name": "python",
   "nbconvert_exporter": "python",
   "pygments_lexer": "ipython2",
   "version": "2.7.15"
  }
 },
 "nbformat": 4,
 "nbformat_minor": 2
}
