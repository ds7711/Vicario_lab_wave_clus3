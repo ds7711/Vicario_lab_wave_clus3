{
 "cells": [
  {
   "cell_type": "markdown",
   "metadata": {},
   "source": [
    "## spike waveform clustering\n",
    "\n",
    "1. Find all data files in a directory and return the path and filenames\n",
    "\n",
    "1. Read matlab data and obtain its unit name and average waveform\n",
    "\n",
    "1. Concatenate all files together\n",
    "\n",
    "1. Normalize waveforms within itself by its largest values\n",
    "\n",
    "1. Perform clustering training and prediction\n",
    "\n",
    "1. Return the unit name and corresponding spike class"
   ]
  },
  {
   "cell_type": "code",
   "execution_count": 1,
   "metadata": {},
   "outputs": [],
   "source": [
    "# import required modules\n",
    "import matplotlib.pylab as plt\n",
    "%matplotlib inline\n",
    "import numpy as np\n",
    "import pandas as pd\n",
    "import seaborn as sns\n",
    "sns.set_context(\"talk\")\n",
    "sns.set_style(\"whitegrid\")\n",
    "import pdb\n",
    "import scipy\n",
    "from ipywidgets import interact, interactive, fixed\n",
    "from scipy.stats import multivariate_normal\n",
    "from scipy.io import loadmat\n",
    "from sklearn.decomposition import PCA\n",
    "from sklearn.discriminant_analysis import LinearDiscriminantAnalysis\n",
    "from sklearn.cluster import AffinityPropagation, MiniBatchKMeans, KMeans, SpectralClustering\n",
    "from sklearn import metrics\n",
    "from sklearn.manifold import TSNE\n",
    "\n",
    "# simplegui\n",
    "from Tkinter import *\n",
    "import Tkinter\n",
    "from tkFileDialog import askopenfilename\n",
    "default_figsize = (10, 8)\n",
    "\n",
    "# for importing customized figures\n",
    "import sys\n",
    "import mdlab as mdl"
   ]
  },
  {
   "cell_type": "code",
   "execution_count": 2,
   "metadata": {},
   "outputs": [],
   "source": [
    "def pca_spike_waveform(spike_waveforms, num_components=None):\n",
    "    \"\"\"\n",
    "    use PCA to reduce the dimension of the spikewaveform\n",
    "    :param spike_waveforms:\n",
    "    :param num_components:\n",
    "    :return:\n",
    "    \"\"\"\n",
    "    pca = PCA(n_components=num_components)\n",
    "    pca.fit(spike_waveforms)\n",
    "    representations = pca.transform(spike_waveforms)\n",
    "    print(pca.explained_variance_ratio_)\n",
    "    return (representations)\n",
    "\n",
    "def spike_clustering(spike_waveforms, num_clusters=2):\n",
    "#     af = AffinityPropagation()\n",
    "    af = MiniBatchKMeans(n_clusters=2)\n",
    "#     af = KMeans(n_clusters=num_clusters)\n",
    "#     af = SpectralClustering(n_clusters=2)\n",
    "    labels = af.fit_predict(spike_waveforms)\n",
    "    return(labels)\n",
    "\n",
    "def code2label(labels, code_label_dict):\n",
    "    new_labels = [code_label_dict[item] for item in labels]\n",
    "    return(np.asarray(new_labels))"
   ]
  },
  {
   "cell_type": "markdown",
   "metadata": {},
   "source": [
    "## list, read, and concatenate the spike waveforms from .npz data"
   ]
  },
  {
   "cell_type": "code",
   "execution_count": 3,
   "metadata": {
    "scrolled": true
   },
   "outputs": [
    {
     "data": {
      "text/plain": [
       "[u'C:/Users/Vicario_lab/Documents/Mingwen_data_analysis/2018_Dissertation/SpikeWaveforms/alternating_1sec.npz',\n",
       " u'C:/Users/Vicario_lab/Documents/Mingwen_data_analysis/2018_Dissertation/SpikeWaveforms/alternating_3sec.npz',\n",
       " u'C:/Users/Vicario_lab/Documents/Mingwen_data_analysis/2018_Dissertation/SpikeWaveforms/alternating_jittered.npz',\n",
       " u'C:/Users/Vicario_lab/Documents/Mingwen_data_analysis/2018_Dissertation/SpikeWaveforms/blocked.npz',\n",
       " u'C:/Users/Vicario_lab/Documents/Mingwen_data_analysis/2018_Dissertation/SpikeWaveforms/contrast.npz',\n",
       " u'C:/Users/Vicario_lab/Documents/Mingwen_data_analysis/2018_Dissertation/SpikeWaveforms/control_1sec.npz',\n",
       " u'C:/Users/Vicario_lab/Documents/Mingwen_data_analysis/2018_Dissertation/SpikeWaveforms/control_3sec.npz',\n",
       " u'C:/Users/Vicario_lab/Documents/Mingwen_data_analysis/2018_Dissertation/SpikeWaveforms/control_jittered.npz',\n",
       " u'C:/Users/Vicario_lab/Documents/Mingwen_data_analysis/2018_Dissertation/SpikeWaveforms/oddball_jittered.npz',\n",
       " u'C:/Users/Vicario_lab/Documents/Mingwen_data_analysis/2018_Dissertation/SpikeWaveforms/shuffled_.npz']"
      ]
     },
     "execution_count": 3,
     "metadata": {},
     "output_type": "execute_result"
    }
   ],
   "source": [
    "npz_files = mdl.list_files(\".*\\.npz\")\n",
    "npz_files"
   ]
  },
  {
   "cell_type": "code",
   "execution_count": 4,
   "metadata": {},
   "outputs": [
    {
     "data": {
      "text/plain": [
       "u'C:/Users/Vicario_lab/Documents/Mingwen_data_analysis/2018_Dissertation/SpikeWaveforms/alternating_1sec.npz'"
      ]
     },
     "execution_count": 4,
     "metadata": {},
     "output_type": "execute_result"
    }
   ],
   "source": [
    "npz_files[0]"
   ]
  },
  {
   "cell_type": "markdown",
   "metadata": {},
   "source": [
    "check whether all .npz files have spikewaveform information"
   ]
  },
  {
   "cell_type": "code",
   "execution_count": 5,
   "metadata": {},
   "outputs": [
    {
     "name": "stdout",
     "output_type": "stream",
     "text": [
      "['spike_waveforms', 'spikes', 'spike_ids', 'filenames', 'stim_waveforms', 'header', 'spike_condtions']\n",
      "(863L, 32L)\n",
      "['spike_waveforms', 'spikes', 'spike_ids', 'filenames', 'stim_waveforms', 'header', 'spike_condtions']\n",
      "(824L, 32L)\n",
      "['spike_waveforms', 'spikes', 'spike_ids', 'filenames', 'stim_waveforms', 'header', 'spike_condtions']\n",
      "(961L, 32L)\n",
      "['spike_waveforms', 'spikes', 'spike_ids', 'filenames', 'stim_waveforms', 'header', 'spike_condtions']\n",
      "(688L, 32L)\n",
      "['spike_waveforms', 'spikes', 'spike_ids', 'filenames', 'stim_waveforms', 'header', 'spike_condtions']\n",
      "(757L, 32L)\n",
      "['spike_waveforms', 'spikes', 'spike_ids', 'filenames', 'stim_waveforms', 'header', 'spike_condtions']\n",
      "(823L, 32L)\n",
      "['spike_waveforms', 'spikes', 'spike_ids', 'filenames', 'stim_waveforms', 'header', 'spike_condtions']\n",
      "(830L, 32L)\n",
      "['spike_waveforms', 'spikes', 'spike_ids', 'filenames', 'stim_waveforms', 'header', 'spike_condtions']\n",
      "(994L, 32L)\n",
      "['spike_waveforms', 'spikes', 'spike_ids', 'filenames', 'stim_waveforms', 'header', 'spike_condtions']\n",
      "(818L, 32L)\n",
      "['spike_waveforms', 'spikes', 'spike_ids', 'filenames', 'stim_waveforms', 'header', 'spike_condtions']\n",
      "(746L, 32L)\n",
      "8304\n"
     ]
    }
   ],
   "source": [
    "nunits = 0\n",
    "for fn in npz_files:\n",
    "    data = np.load(fn)\n",
    "    print(data.keys())\n",
    "    print(data[\"spike_waveforms\"].shape)\n",
    "    nunits += data[\"spike_waveforms\"].shape[0]\n",
    "print(nunits)"
   ]
  },
  {
   "cell_type": "markdown",
   "metadata": {},
   "source": [
    "remove bad units (with nan values), label SUA with condition, bird, and electrode"
   ]
  },
  {
   "cell_type": "code",
   "execution_count": 8,
   "metadata": {},
   "outputs": [
    {
     "name": "stdout",
     "output_type": "stream",
     "text": [
      "----------------------------------------------------------------------------------------------------\n",
      "(3729, 3729, 3729, 3729)\n",
      "----------------------------------------------------------------------------------------------------\n"
     ]
    }
   ],
   "source": [
    "path_separator = \"/\"  # depending on the operating system, this is what Windows uses\n",
    "spike_waveform_list = []  # \n",
    "header_list = []\n",
    "condition_list = []\n",
    "id_list = []\n",
    "\n",
    "for fn in npz_files:\n",
    "    tmp_data = np.load(fn)\n",
    "    # !!! spike_condtions is a typo, it will be corrected in the future release of mdlab, \n",
    "    # one needs to change this key in the future !!!\n",
    "    tmp_cnd, tmp_id, tmp_sw = tmp_data[\"spike_condtions\"], tmp_data[\"spike_ids\"], tmp_data[\"spike_waveforms\"]\n",
    "    for i in range(len(tmp_cnd)):\n",
    "        unit_id = tmp_id[i]\n",
    "        birdid, unit = unit_id.split(mdl.separator)\n",
    "        unit_sw = tmp_sw[i]\n",
    "        \n",
    "        sua_label = int(unit) % mdl.mua_sua_distinguisher != 0  # whether the current channel is SUA?\n",
    "        valid_value = not np.any(np.isnan(unit_sw))  # whether spikewaveform contains any nan\n",
    "        \n",
    "        if sua_label and valid_value: # only include single-unit, SUA cannot be divided exactly by 100.\n",
    "            \n",
    "            unit_cnd = fn.split(\"/\")[-1][:-4]\n",
    "            unit_header = tmp_cnd[i]\n",
    "            \n",
    "            condition_list.append(unit_cnd)\n",
    "            id_list.append(unit_id)\n",
    "            header_list.append(unit_header)\n",
    "            spike_waveform_list.append(unit_sw)\n",
    "spike_waveform_list = np.asarray(spike_waveform_list)\n",
    "\n",
    "# summary whether there are potential errors: all lists/arrays should have the same number of items\n",
    "print(\"----------------------------------------------------------------------------------------------------\")\n",
    "print(len(spike_waveform_list), len(condition_list), len(id_list), len(header_list))\n",
    "print(\"----------------------------------------------------------------------------------------------------\")"
   ]
  },
  {
   "cell_type": "markdown",
   "metadata": {},
   "source": [
    "## normalize the waveform within itself"
   ]
  },
  {
   "cell_type": "code",
   "execution_count": 9,
   "metadata": {},
   "outputs": [],
   "source": [
    "spike_waveform_list = spike_waveform_list / np.max(spike_waveform_list, axis=1)[:, np.newaxis]"
   ]
  },
  {
   "cell_type": "markdown",
   "metadata": {},
   "source": [
    "## PCA to reduce the dimension of the data"
   ]
  },
  {
   "cell_type": "code",
   "execution_count": 10,
   "metadata": {},
   "outputs": [
    {
     "name": "stdout",
     "output_type": "stream",
     "text": [
      "[0.58784687 0.24105566 0.09090553 0.05031976]\n"
     ]
    }
   ],
   "source": [
    "new_representations = pca_spike_waveform(spike_waveform_list, num_components=4)\n",
    "# sw_embedded = TSNE(n_components=2).fit_transform(spike_waveform_list)"
   ]
  },
  {
   "cell_type": "markdown",
   "metadata": {},
   "source": [
    "## perform clustering using KMeans, affinity propagation, or other"
   ]
  },
  {
   "cell_type": "code",
   "execution_count": 11,
   "metadata": {},
   "outputs": [
    {
     "name": "stdout",
     "output_type": "stream",
     "text": [
      "Silhouette Coefficient: 0.599\n"
     ]
    },
    {
     "data": {
      "image/png": "[encoded data removed]",
      "text/plain": [
       "<Figure size 432x288 with 1 Axes>"
      ]
     },
     "metadata": {
      "needs_background": "light"
     },
     "output_type": "display_data"
    }
   ],
   "source": [
    "labels = spike_clustering(new_representations)\n",
    "print(\"Silhouette Coefficient: %0.3f\"\n",
    "      % metrics.silhouette_score(new_representations, labels, metric='sqeuclidean'))\n",
    "mdl.categorical_scatterplot(x=new_representations[:, 0], y=new_representations[:, 1], categories=labels)"
   ]
  },
  {
   "cell_type": "code",
   "execution_count": 12,
   "metadata": {},
   "outputs": [],
   "source": [
    "# mdl.categorical_scatterplot(x=sw_embedded[:, 0], y=sw_embedded[:, 1], categories=labels)"
   ]
  },
  {
   "cell_type": "code",
   "execution_count": 13,
   "metadata": {},
   "outputs": [
    {
     "data": {
      "image/png": "[encoded data removed]",
      "text/plain": [
       "<Figure size 360x216 with 1 Axes>"
      ]
     },
     "metadata": {
      "needs_background": "light"
     },
     "output_type": "display_data"
    }
   ],
   "source": [
    "wav_idx = labels == 0\n",
    "opp_idx = np.logical_not(wav_idx)\n",
    "class_1 = spike_waveform_list[wav_idx].mean(axis=0)\n",
    "class_2 = spike_waveform_list[opp_idx].mean(axis=0)\n",
    "plt.figure(figsize=(5, 3))\n",
    "plt.plot(class_1)\n",
    "plt.plot(class_2)\n",
    "plt.legend([\"wide: excitatory\", \"narrow: inhibitory\"])\n",
    "code_label_dict = {0: \"wide\", 1: \"narrow\"} # defined after plotting the average waveform\n",
    "plt.tight_layout()\n",
    "labels = code2label(labels, code_label_dict)\n",
    "# plt.savefig(\"narrow_vs_wide.png\", dpi=600)"
   ]
  },
  {
   "cell_type": "code",
   "execution_count": 14,
   "metadata": {},
   "outputs": [],
   "source": [
    "df = pd.DataFrame({\"filename\": header_list, \n",
    "                   \"label\": labels, \n",
    "                   \"condition\": condition_list,\n",
    "                   \"id\": id_list\n",
    "                  })"
   ]
  },
  {
   "cell_type": "markdown",
   "metadata": {},
   "source": [
    "## check results: condition & filename should match with each other"
   ]
  },
  {
   "cell_type": "code",
   "execution_count": 18,
   "metadata": {},
   "outputs": [
    {
     "data": {
      "text/html": [
       "<div>\n",
       "<style scoped>\n",
       "    .dataframe tbody tr th:only-of-type {\n",
       "        vertical-align: middle;\n",
       "    }\n",
       "\n",
       "    .dataframe tbody tr th {\n",
       "        vertical-align: top;\n",
       "    }\n",
       "\n",
       "    .dataframe thead th {\n",
       "        text-align: right;\n",
       "    }\n",
       "</style>\n",
       "<table border=\"1\" class=\"dataframe\">\n",
       "  <thead>\n",
       "    <tr style=\"text-align: right;\">\n",
       "      <th></th>\n",
       "      <th>condition</th>\n",
       "      <th>filename</th>\n",
       "      <th>id</th>\n",
       "      <th>label</th>\n",
       "    </tr>\n",
       "  </thead>\n",
       "  <tbody>\n",
       "    <tr>\n",
       "      <th>1908</th>\n",
       "      <td>control_1sec</td>\n",
       "      <td>matrix_VI003__control_1sec_.mat</td>\n",
       "      <td>VI003___501</td>\n",
       "      <td>wide</td>\n",
       "    </tr>\n",
       "    <tr>\n",
       "      <th>693</th>\n",
       "      <td>alternating_3sec</td>\n",
       "      <td>matrix_WE065__alternating_3sec_.mat</td>\n",
       "      <td>WE065___1902</td>\n",
       "      <td>wide</td>\n",
       "    </tr>\n",
       "    <tr>\n",
       "      <th>1209</th>\n",
       "      <td>alternating_jittered</td>\n",
       "      <td>matrix_WE084__alternating_jittered_.mat</td>\n",
       "      <td>WE084___2703</td>\n",
       "      <td>wide</td>\n",
       "    </tr>\n",
       "    <tr>\n",
       "      <th>1904</th>\n",
       "      <td>control_1sec</td>\n",
       "      <td>matrix_VI003__control_1sec_.mat</td>\n",
       "      <td>VI003___202</td>\n",
       "      <td>narrow</td>\n",
       "    </tr>\n",
       "    <tr>\n",
       "      <th>324</th>\n",
       "      <td>alternating_1sec</td>\n",
       "      <td>matrix_WE065__alternating_1sec_.mat</td>\n",
       "      <td>WE065___1002</td>\n",
       "      <td>narrow</td>\n",
       "    </tr>\n",
       "    <tr>\n",
       "      <th>771</th>\n",
       "      <td>alternating_3sec</td>\n",
       "      <td>matrix_WE120__alternating_3sec_.mat</td>\n",
       "      <td>WE120___2402</td>\n",
       "      <td>narrow</td>\n",
       "    </tr>\n",
       "    <tr>\n",
       "      <th>3698</th>\n",
       "      <td>shuffled_</td>\n",
       "      <td>matrix_WE100__shuffled_.mat</td>\n",
       "      <td>WE100___902</td>\n",
       "      <td>wide</td>\n",
       "    </tr>\n",
       "    <tr>\n",
       "      <th>3102</th>\n",
       "      <td>oddball_jittered</td>\n",
       "      <td>matrix_GN520__oddball_jittered_.mat</td>\n",
       "      <td>GN520___2703</td>\n",
       "      <td>narrow</td>\n",
       "    </tr>\n",
       "    <tr>\n",
       "      <th>3649</th>\n",
       "      <td>shuffled_</td>\n",
       "      <td>matrix_WE084__shuffled_.mat</td>\n",
       "      <td>WE084___1206</td>\n",
       "      <td>wide</td>\n",
       "    </tr>\n",
       "    <tr>\n",
       "      <th>3447</th>\n",
       "      <td>shuffled_</td>\n",
       "      <td>matrix_NB001__shuffled_.mat</td>\n",
       "      <td>NB001___301</td>\n",
       "      <td>wide</td>\n",
       "    </tr>\n",
       "    <tr>\n",
       "      <th>2163</th>\n",
       "      <td>control_1sec</td>\n",
       "      <td>matrix_WE065__control_1sec_bk_.mat</td>\n",
       "      <td>WE065___902</td>\n",
       "      <td>wide</td>\n",
       "    </tr>\n",
       "    <tr>\n",
       "      <th>3090</th>\n",
       "      <td>oddball_jittered</td>\n",
       "      <td>matrix_GN520__oddball_jittered_.mat</td>\n",
       "      <td>GN520___202</td>\n",
       "      <td>wide</td>\n",
       "    </tr>\n",
       "    <tr>\n",
       "      <th>3043</th>\n",
       "      <td>control_jittered</td>\n",
       "      <td>matrix_WE084__control_jittered_.mat</td>\n",
       "      <td>WE084___101</td>\n",
       "      <td>wide</td>\n",
       "    </tr>\n",
       "    <tr>\n",
       "      <th>1716</th>\n",
       "      <td>contrast</td>\n",
       "      <td>matrix_WE067__contrast_.mat</td>\n",
       "      <td>WE067___1002</td>\n",
       "      <td>narrow</td>\n",
       "    </tr>\n",
       "    <tr>\n",
       "      <th>428</th>\n",
       "      <td>alternating_3sec</td>\n",
       "      <td>matrix_VI001__ababab_oddball_3sec_.mat</td>\n",
       "      <td>VI001___2302</td>\n",
       "      <td>wide</td>\n",
       "    </tr>\n",
       "    <tr>\n",
       "      <th>932</th>\n",
       "      <td>alternating_jittered</td>\n",
       "      <td>matrix_VI004__alternating_variableISI_.mat</td>\n",
       "      <td>VI004___802</td>\n",
       "      <td>narrow</td>\n",
       "    </tr>\n",
       "    <tr>\n",
       "      <th>2054</th>\n",
       "      <td>control_1sec</td>\n",
       "      <td>matrix_VI009__control_1sec_.mat</td>\n",
       "      <td>VI009___1302</td>\n",
       "      <td>wide</td>\n",
       "    </tr>\n",
       "    <tr>\n",
       "      <th>526</th>\n",
       "      <td>alternating_3sec</td>\n",
       "      <td>matrix_VI005__alternating_3sec_.mat</td>\n",
       "      <td>VI005___301</td>\n",
       "      <td>wide</td>\n",
       "    </tr>\n",
       "    <tr>\n",
       "      <th>160</th>\n",
       "      <td>alternating_1sec</td>\n",
       "      <td>matrix_VI005__alternating_1sec_.mat</td>\n",
       "      <td>VI005___2205</td>\n",
       "      <td>wide</td>\n",
       "    </tr>\n",
       "    <tr>\n",
       "      <th>2245</th>\n",
       "      <td>control_3sec</td>\n",
       "      <td>matrix_VI001__ababab_control_3sec_.mat</td>\n",
       "      <td>VI001___2202</td>\n",
       "      <td>wide</td>\n",
       "    </tr>\n",
       "  </tbody>\n",
       "</table>\n",
       "</div>"
      ],
      "text/plain": [
       "                 condition                                    filename  \\\n",
       "1908          control_1sec             matrix_VI003__control_1sec_.mat   \n",
       "693       alternating_3sec         matrix_WE065__alternating_3sec_.mat   \n",
       "1209  alternating_jittered     matrix_WE084__alternating_jittered_.mat   \n",
       "1904          control_1sec             matrix_VI003__control_1sec_.mat   \n",
       "324       alternating_1sec         matrix_WE065__alternating_1sec_.mat   \n",
       "771       alternating_3sec         matrix_WE120__alternating_3sec_.mat   \n",
       "3698             shuffled_                 matrix_WE100__shuffled_.mat   \n",
       "3102      oddball_jittered         matrix_GN520__oddball_jittered_.mat   \n",
       "3649             shuffled_                 matrix_WE084__shuffled_.mat   \n",
       "3447             shuffled_                 matrix_NB001__shuffled_.mat   \n",
       "2163          control_1sec          matrix_WE065__control_1sec_bk_.mat   \n",
       "3090      oddball_jittered         matrix_GN520__oddball_jittered_.mat   \n",
       "3043      control_jittered         matrix_WE084__control_jittered_.mat   \n",
       "1716              contrast                 matrix_WE067__contrast_.mat   \n",
       "428       alternating_3sec      matrix_VI001__ababab_oddball_3sec_.mat   \n",
       "932   alternating_jittered  matrix_VI004__alternating_variableISI_.mat   \n",
       "2054          control_1sec             matrix_VI009__control_1sec_.mat   \n",
       "526       alternating_3sec         matrix_VI005__alternating_3sec_.mat   \n",
       "160       alternating_1sec         matrix_VI005__alternating_1sec_.mat   \n",
       "2245          control_3sec      matrix_VI001__ababab_control_3sec_.mat   \n",
       "\n",
       "                id   label  \n",
       "1908   VI003___501    wide  \n",
       "693   WE065___1902    wide  \n",
       "1209  WE084___2703    wide  \n",
       "1904   VI003___202  narrow  \n",
       "324   WE065___1002  narrow  \n",
       "771   WE120___2402  narrow  \n",
       "3698   WE100___902    wide  \n",
       "3102  GN520___2703  narrow  \n",
       "3649  WE084___1206    wide  \n",
       "3447   NB001___301    wide  \n",
       "2163   WE065___902    wide  \n",
       "3090   GN520___202    wide  \n",
       "3043   WE084___101    wide  \n",
       "1716  WE067___1002  narrow  \n",
       "428   VI001___2302    wide  \n",
       "932    VI004___802  narrow  \n",
       "2054  VI009___1302    wide  \n",
       "526    VI005___301    wide  \n",
       "160   VI005___2205    wide  \n",
       "2245  VI001___2202    wide  "
      ]
     },
     "execution_count": 18,
     "metadata": {},
     "output_type": "execute_result"
    }
   ],
   "source": [
    "df.sample(20)"
   ]
  },
  {
   "cell_type": "markdown",
   "metadata": {},
   "source": [
    "## save clustering results"
   ]
  },
  {
   "cell_type": "code",
   "execution_count": 16,
   "metadata": {},
   "outputs": [],
   "source": [
    "csv_filename = \"sua_dict.csv\"\n",
    "df.to_csv(csv_filename, index=False)"
   ]
  },
  {
   "cell_type": "code",
   "execution_count": null,
   "metadata": {},
   "outputs": [],
   "source": []
  },
  {
   "cell_type": "code",
   "execution_count": null,
   "metadata": {},
   "outputs": [],
   "source": []
  },
  {
   "cell_type": "code",
   "execution_count": null,
   "metadata": {},
   "outputs": [],
   "source": []
  },
  {
   "cell_type": "code",
   "execution_count": null,
   "metadata": {},
   "outputs": [],
   "source": []
  },
  {
   "cell_type": "code",
   "execution_count": null,
   "metadata": {},
   "outputs": [],
   "source": []
  },
  {
   "cell_type": "code",
   "execution_count": null,
   "metadata": {},
   "outputs": [],
   "source": []
  },
  {
   "cell_type": "code",
   "execution_count": null,
   "metadata": {},
   "outputs": [],
   "source": []
  }
 ],
 "metadata": {
  "kernelspec": {
   "display_name": "Python 2",
   "language": "python",
   "name": "python2"
  },
  "language_info": {
   "codemirror_mode": {
    "name": "ipython",
    "version": 2
   },
   "file_extension": ".py",
   "mimetype": "text/x-python",
   "name": "python",
   "nbconvert_exporter": "python",
   "pygments_lexer": "ipython2",
   "version": "2.7.15"
  }
 },
 "nbformat": 4,
 "nbformat_minor": 2
}
