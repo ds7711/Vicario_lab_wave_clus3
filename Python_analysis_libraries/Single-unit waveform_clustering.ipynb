{
 "cells": [
  {
   "cell_type": "markdown",
   "metadata": {},
   "source": [
    "## spike waveform clustering\n",
    "\n",
    "1. Find all data files in a directory and return the path and filenames\n",
    "\n",
    "1. Read matlab data and obtain its unit name and average waveform\n",
    "\n",
    "1. Concatenate all files together\n",
    "\n",
    "1. Normalize waveforms within itself by its largest values\n",
    "\n",
    "1. Perform clustering training and prediction\n",
    "\n",
    "1. Return the unit name and corresponding spike class"
   ]
  },
  {
   "cell_type": "code",
   "execution_count": 1,
   "metadata": {},
   "outputs": [],
   "source": [
    "# import required modules\n",
    "import matplotlib.pylab as plt\n",
    "%matplotlib inline\n",
    "import numpy as np\n",
    "import pandas as pd\n",
    "import seaborn as sns\n",
    "sns.set_context(\"talk\")\n",
    "sns.set_style(\"whitegrid\")\n",
    "import pdb\n",
    "import scipy\n",
    "from ipywidgets import interact, interactive, fixed\n",
    "from scipy.stats import multivariate_normal\n",
    "from scipy.io import loadmat\n",
    "from sklearn.decomposition import PCA\n",
    "from sklearn.discriminant_analysis import LinearDiscriminantAnalysis\n",
    "from sklearn.cluster import AffinityPropagation, MiniBatchKMeans, KMeans, SpectralClustering\n",
    "from sklearn import metrics\n",
    "from sklearn.manifold import TSNE\n",
    "\n",
    "# simplegui\n",
    "from Tkinter import *\n",
    "import Tkinter\n",
    "from tkFileDialog import askopenfilename\n",
    "default_figsize = (10, 8)\n",
    "\n",
    "# for importing customized figures\n",
    "import sys\n",
    "import mdlab as mdl"
   ]
  },
  {
   "cell_type": "code",
   "execution_count": 2,
   "metadata": {},
   "outputs": [],
   "source": [
    "def pca_spike_waveform(spike_waveforms, num_components=None):\n",
    "    \"\"\"\n",
    "    use PCA to reduce the dimension of the spikewaveform\n",
    "    :param spike_waveforms:\n",
    "    :param num_components:\n",
    "    :return:\n",
    "    \"\"\"\n",
    "    pca = PCA(n_components=num_components)\n",
    "    pca.fit(spike_waveforms)\n",
    "    representations = pca.transform(spike_waveforms)\n",
    "    print(pca.explained_variance_ratio_)\n",
    "    return (representations)\n",
    "\n",
    "def spike_clustering(spike_waveforms, num_clusters=2):\n",
    "#     af = AffinityPropagation()\n",
    "    af = MiniBatchKMeans(n_clusters=2)\n",
    "#     af = KMeans(n_clusters=num_clusters)\n",
    "#     af = SpectralClustering(n_clusters=2)\n",
    "    labels = af.fit_predict(spike_waveforms)\n",
    "    return(labels)\n",
    "\n",
    "def code2label(labels, code_label_dict):\n",
    "    new_labels = [code_label_dict[item] for item in labels]\n",
    "    return(np.asarray(new_labels))"
   ]
  },
  {
   "cell_type": "markdown",
   "metadata": {},
   "source": [
    "## list, read, and concatenate the spike waveforms from .npz data"
   ]
  },
  {
   "cell_type": "code",
   "execution_count": 3,
   "metadata": {},
   "outputs": [
    {
     "data": {
      "text/plain": [
       "[u'C:/Users/Vicario_lab/Documents/Mingwen_data_analysis/2018_Dissertation/SpikeWaveforms/alternating_1sec.npz',\n",
       " u'C:/Users/Vicario_lab/Documents/Mingwen_data_analysis/2018_Dissertation/SpikeWaveforms/alternating_3sec.npz',\n",
       " u'C:/Users/Vicario_lab/Documents/Mingwen_data_analysis/2018_Dissertation/SpikeWaveforms/alternating_jittered.npz',\n",
       " u'C:/Users/Vicario_lab/Documents/Mingwen_data_analysis/2018_Dissertation/SpikeWaveforms/blocked.npz',\n",
       " u'C:/Users/Vicario_lab/Documents/Mingwen_data_analysis/2018_Dissertation/SpikeWaveforms/contrast.npz',\n",
       " u'C:/Users/Vicario_lab/Documents/Mingwen_data_analysis/2018_Dissertation/SpikeWaveforms/control_1sec.npz',\n",
       " u'C:/Users/Vicario_lab/Documents/Mingwen_data_analysis/2018_Dissertation/SpikeWaveforms/control_3sec.npz',\n",
       " u'C:/Users/Vicario_lab/Documents/Mingwen_data_analysis/2018_Dissertation/SpikeWaveforms/control_jittered.npz',\n",
       " u'C:/Users/Vicario_lab/Documents/Mingwen_data_analysis/2018_Dissertation/SpikeWaveforms/oddball_jittered.npz',\n",
       " u'C:/Users/Vicario_lab/Documents/Mingwen_data_analysis/2018_Dissertation/SpikeWaveforms/shuffled.npz']"
      ]
     },
     "execution_count": 3,
     "metadata": {},
     "output_type": "execute_result"
    }
   ],
   "source": [
    "npz_files = mdl.list_files(\".*\\.npz\")\n",
    "npz_files"
   ]
  },
  {
   "cell_type": "markdown",
   "metadata": {},
   "source": [
    "check whether all .npz files have spikewaveform information"
   ]
  },
  {
   "cell_type": "code",
   "execution_count": 4,
   "metadata": {},
   "outputs": [
    {
     "name": "stdout",
     "output_type": "stream",
     "text": [
      "['spike_waveforms', 'spikes', 'spike_ids', 'filenames', 'stim_waveforms', 'header', 'spike_condtions']\n",
      "['spike_waveforms', 'spikes', 'spike_ids', 'filenames', 'stim_waveforms', 'header', 'spike_condtions']\n",
      "['spike_waveforms', 'spikes', 'spike_ids', 'filenames', 'stim_waveforms', 'header', 'spike_condtions']\n",
      "['spike_waveforms', 'spikes', 'spike_ids', 'filenames', 'stim_waveforms', 'header', 'spike_condtions']\n",
      "['spike_waveforms', 'spikes', 'spike_ids', 'filenames', 'stim_waveforms', 'header', 'spike_condtions']\n",
      "['spike_waveforms', 'spikes', 'spike_ids', 'filenames', 'stim_waveforms', 'header', 'spike_condtions']\n",
      "['spike_waveforms', 'spikes', 'spike_ids', 'filenames', 'stim_waveforms', 'header', 'spike_condtions']\n",
      "['spike_waveforms', 'spikes', 'spike_ids', 'filenames', 'stim_waveforms', 'header', 'spike_condtions']\n",
      "['spike_waveforms', 'spikes', 'spike_ids', 'filenames', 'stim_waveforms', 'header', 'spike_condtions']\n",
      "['spike_waveforms', 'spikes', 'spike_ids', 'filenames', 'stim_waveforms', 'header', 'spike_condtions']\n"
     ]
    }
   ],
   "source": [
    "for fn in npz_files:\n",
    "    data = np.load(fn)\n",
    "    print(data.keys())"
   ]
  },
  {
   "cell_type": "markdown",
   "metadata": {},
   "source": [
    "remove bad units (with nan values), label SUA with condition, bird, and electrode"
   ]
  },
  {
   "cell_type": "code",
   "execution_count": 13,
   "metadata": {},
   "outputs": [
    {
     "name": "stdout",
     "output_type": "stream",
     "text": [
      "----------------------------------------------------------------------------------------------------\n",
      "(2960, 2960, 2960, 2960)\n",
      "----------------------------------------------------------------------------------------------------\n"
     ]
    }
   ],
   "source": [
    "path_separator = \"/\"  # depending on the operating system, this is what Windows uses\n",
    "spike_waveform_list = []  # \n",
    "header_list = []\n",
    "condition_list = []\n",
    "id_list = []\n",
    "for fn in npz_files:\n",
    "    tmp_data = np.load(fn)\n",
    "    # !!! spike_condtions is a typo, it will be corrected in the future release of mdlab, \n",
    "    # one needs to change this key in the future !!!\n",
    "    tmp_cnd, tmp_id, tmp_sw = data[\"spike_condtions\"], data[\"spike_ids\"], data[\"spike_waveforms\"]\n",
    "    for i in range(len(tmp_cnd)):\n",
    "        unit_id = tmp_id[i]\n",
    "        birdid, unit = unit_id.split(mdl.separator)\n",
    "        unit_sw = tmp_sw[i]\n",
    "        \n",
    "        sua_label = int(unit) % mdl.mua_sua_distinguisher != 0  # whether the current channel is SUA?\n",
    "        valid_value = not np.any(np.isnan(unit_sw))  # whether spikewaveform contains any nan\n",
    "        \n",
    "        if sua_label and valid_value: # only include single-unit, SUA cannot be divided exactly by 100.\n",
    "            \n",
    "            unit_cnd = fn.split(\"/\")[-1][:-4]\n",
    "            unit_header = tmp_cnd[i]\n",
    "            \n",
    "            condition_list.append(unit_cnd)\n",
    "            id_list.append(unit_id)\n",
    "            header_list.append(unit_header)\n",
    "            spike_waveform_list.append(unit_sw)\n",
    "spike_waveform_list = np.asarray(spike_waveform_list)\n",
    "\n",
    "# summary whether there are potential errors: all lists/arrays should have the same number of items\n",
    "print(\"----------------------------------------------------------------------------------------------------\")\n",
    "print(len(spike_waveform_list), len(condition_list), len(id_list), len(header_list))\n",
    "print(\"----------------------------------------------------------------------------------------------------\")"
   ]
  },
  {
   "cell_type": "markdown",
   "metadata": {},
   "source": [
    "## normalize the waveform within itself"
   ]
  },
  {
   "cell_type": "code",
   "execution_count": 14,
   "metadata": {},
   "outputs": [],
   "source": [
    "spike_waveform_list = spike_waveform_list / np.max(spike_waveform_list, axis=1)[:, np.newaxis]"
   ]
  },
  {
   "cell_type": "markdown",
   "metadata": {},
   "source": [
    "## PCA to reduce the dimension of the data"
   ]
  },
  {
   "cell_type": "code",
   "execution_count": 15,
   "metadata": {},
   "outputs": [
    {
     "name": "stdout",
     "output_type": "stream",
     "text": [
      "[0.59752532 0.22814403 0.09259192 0.04477847]\n"
     ]
    }
   ],
   "source": [
    "new_representations = pca_spike_waveform(spike_waveform_list, num_components=4)\n",
    "# sw_embedded = TSNE(n_components=2).fit_transform(spike_waveform_list)"
   ]
  },
  {
   "cell_type": "markdown",
   "metadata": {},
   "source": [
    "## perform clustering using KMeans, affinity propagation, or other"
   ]
  },
  {
   "cell_type": "code",
   "execution_count": 16,
   "metadata": {},
   "outputs": [
    {
     "name": "stdout",
     "output_type": "stream",
     "text": [
      "Silhouette Coefficient: 0.616\n"
     ]
    },
    {
     "data": {
      "image/png": "[encoded data removed]",
      "text/plain": [
       "<Figure size 432x288 with 1 Axes>"
      ]
     },
     "metadata": {
      "needs_background": "light"
     },
     "output_type": "display_data"
    }
   ],
   "source": [
    "labels = spike_clustering(new_representations)\n",
    "print(\"Silhouette Coefficient: %0.3f\"\n",
    "      % metrics.silhouette_score(new_representations, labels, metric='sqeuclidean'))\n",
    "mdl.categorical_scatterplot(x=new_representations[:, 0], y=new_representations[:, 1], categories=labels)"
   ]
  },
  {
   "cell_type": "code",
   "execution_count": 17,
   "metadata": {},
   "outputs": [],
   "source": [
    "# mdl.categorical_scatterplot(x=sw_embedded[:, 0], y=sw_embedded[:, 1], categories=labels)"
   ]
  },
  {
   "cell_type": "code",
   "execution_count": 18,
   "metadata": {},
   "outputs": [
    {
     "data": {
      "image/png": "[encoded data removed]",
      "text/plain": [
       "<Figure size 360x216 with 1 Axes>"
      ]
     },
     "metadata": {
      "needs_background": "light"
     },
     "output_type": "display_data"
    }
   ],
   "source": [
    "wav_idx = labels == 0\n",
    "opp_idx = np.logical_not(wav_idx)\n",
    "class_1 = spike_waveform_list[wav_idx].mean(axis=0)\n",
    "class_2 = spike_waveform_list[opp_idx].mean(axis=0)\n",
    "plt.figure(figsize=(5, 3))\n",
    "plt.plot(class_1)\n",
    "plt.plot(class_2)\n",
    "plt.legend([\"wide: excitatory\", \"narrow: inhibitory\"])\n",
    "code_label_dict = {0: \"wide\", 1: \"narrow\"} # defined after plotting the average waveform\n",
    "plt.tight_layout()\n",
    "labels = code2label(labels, code_label_dict)\n",
    "# plt.savefig(\"narrow_vs_wide.png\", dpi=600)"
   ]
  },
  {
   "cell_type": "code",
   "execution_count": 19,
   "metadata": {},
   "outputs": [],
   "source": [
    "df = pd.DataFrame({\"filename\": header_list, \n",
    "                   \"label\": labels, \n",
    "                   \"condition\": condition_list,\n",
    "                   \"id\": id_list\n",
    "                  })"
   ]
  },
  {
   "cell_type": "markdown",
   "metadata": {},
   "source": [
    "## save clustering results"
   ]
  },
  {
   "cell_type": "code",
   "execution_count": 22,
   "metadata": {},
   "outputs": [
    {
     "data": {
      "text/html": [
       "<div>\n",
       "<style scoped>\n",
       "    .dataframe tbody tr th:only-of-type {\n",
       "        vertical-align: middle;\n",
       "    }\n",
       "\n",
       "    .dataframe tbody tr th {\n",
       "        vertical-align: top;\n",
       "    }\n",
       "\n",
       "    .dataframe thead th {\n",
       "        text-align: right;\n",
       "    }\n",
       "</style>\n",
       "<table border=\"1\" class=\"dataframe\">\n",
       "  <thead>\n",
       "    <tr style=\"text-align: right;\">\n",
       "      <th></th>\n",
       "      <th>condition</th>\n",
       "      <th>filename</th>\n",
       "      <th>id</th>\n",
       "      <th>label</th>\n",
       "    </tr>\n",
       "  </thead>\n",
       "  <tbody>\n",
       "    <tr>\n",
       "      <th>1623</th>\n",
       "      <td>control_1sec</td>\n",
       "      <td>matrix_NB007__shuffled_.mat</td>\n",
       "      <td>NB007___1902</td>\n",
       "      <td>narrow</td>\n",
       "    </tr>\n",
       "    <tr>\n",
       "      <th>1514</th>\n",
       "      <td>control_1sec</td>\n",
       "      <td>matrix_NB002__shuffled_.mat</td>\n",
       "      <td>NB002___1002</td>\n",
       "      <td>narrow</td>\n",
       "    </tr>\n",
       "    <tr>\n",
       "      <th>2040</th>\n",
       "      <td>control_3sec</td>\n",
       "      <td>matrix_WE100__shuffled_.mat</td>\n",
       "      <td>WE100___2103</td>\n",
       "      <td>wide</td>\n",
       "    </tr>\n",
       "    <tr>\n",
       "      <th>514</th>\n",
       "      <td>alternating_3sec</td>\n",
       "      <td>matrix_WE084__shuffled_.mat</td>\n",
       "      <td>WE084___1302</td>\n",
       "      <td>narrow</td>\n",
       "    </tr>\n",
       "    <tr>\n",
       "      <th>2546</th>\n",
       "      <td>oddball_jittered</td>\n",
       "      <td>matrix_WE067__shuffled_.mat</td>\n",
       "      <td>WE067___102</td>\n",
       "      <td>narrow</td>\n",
       "    </tr>\n",
       "    <tr>\n",
       "      <th>890</th>\n",
       "      <td>blocked</td>\n",
       "      <td>matrix_NB001__shuffled_.mat</td>\n",
       "      <td>NB001___2702</td>\n",
       "      <td>narrow</td>\n",
       "    </tr>\n",
       "    <tr>\n",
       "      <th>1025</th>\n",
       "      <td>blocked</td>\n",
       "      <td>matrix_NB007__shuffled_.mat</td>\n",
       "      <td>NB007___2702</td>\n",
       "      <td>narrow</td>\n",
       "    </tr>\n",
       "    <tr>\n",
       "      <th>540</th>\n",
       "      <td>alternating_3sec</td>\n",
       "      <td>matrix_WE094__shuffled_.mat</td>\n",
       "      <td>WE094___2503</td>\n",
       "      <td>narrow</td>\n",
       "    </tr>\n",
       "    <tr>\n",
       "      <th>772</th>\n",
       "      <td>alternating_jittered</td>\n",
       "      <td>matrix_WE067__shuffled_.mat</td>\n",
       "      <td>WE067___2502</td>\n",
       "      <td>narrow</td>\n",
       "    </tr>\n",
       "    <tr>\n",
       "      <th>2111</th>\n",
       "      <td>control_jittered</td>\n",
       "      <td>matrix_NB002__shuffled_.mat</td>\n",
       "      <td>NB002___501</td>\n",
       "      <td>narrow</td>\n",
       "    </tr>\n",
       "    <tr>\n",
       "      <th>2808</th>\n",
       "      <td>shuffled</td>\n",
       "      <td>matrix_NB007__shuffled_.mat</td>\n",
       "      <td>NB007___1904</td>\n",
       "      <td>narrow</td>\n",
       "    </tr>\n",
       "    <tr>\n",
       "      <th>2776</th>\n",
       "      <td>shuffled</td>\n",
       "      <td>matrix_NB006__shuffled_.mat</td>\n",
       "      <td>NB006___1902</td>\n",
       "      <td>narrow</td>\n",
       "    </tr>\n",
       "    <tr>\n",
       "      <th>1209</th>\n",
       "      <td>contrast</td>\n",
       "      <td>matrix_NB002__shuffled_.mat</td>\n",
       "      <td>NB002___3004</td>\n",
       "      <td>wide</td>\n",
       "    </tr>\n",
       "    <tr>\n",
       "      <th>1911</th>\n",
       "      <td>control_3sec</td>\n",
       "      <td>matrix_NB007__shuffled_.mat</td>\n",
       "      <td>NB007___2602</td>\n",
       "      <td>narrow</td>\n",
       "    </tr>\n",
       "    <tr>\n",
       "      <th>2785</th>\n",
       "      <td>shuffled</td>\n",
       "      <td>matrix_NB007__shuffled_.mat</td>\n",
       "      <td>NB007___1404</td>\n",
       "      <td>wide</td>\n",
       "    </tr>\n",
       "  </tbody>\n",
       "</table>\n",
       "</div>"
      ],
      "text/plain": [
       "                 condition                     filename            id   label\n",
       "1623          control_1sec  matrix_NB007__shuffled_.mat  NB007___1902  narrow\n",
       "1514          control_1sec  matrix_NB002__shuffled_.mat  NB002___1002  narrow\n",
       "2040          control_3sec  matrix_WE100__shuffled_.mat  WE100___2103    wide\n",
       "514       alternating_3sec  matrix_WE084__shuffled_.mat  WE084___1302  narrow\n",
       "2546      oddball_jittered  matrix_WE067__shuffled_.mat   WE067___102  narrow\n",
       "890                blocked  matrix_NB001__shuffled_.mat  NB001___2702  narrow\n",
       "1025               blocked  matrix_NB007__shuffled_.mat  NB007___2702  narrow\n",
       "540       alternating_3sec  matrix_WE094__shuffled_.mat  WE094___2503  narrow\n",
       "772   alternating_jittered  matrix_WE067__shuffled_.mat  WE067___2502  narrow\n",
       "2111      control_jittered  matrix_NB002__shuffled_.mat   NB002___501  narrow\n",
       "2808              shuffled  matrix_NB007__shuffled_.mat  NB007___1904  narrow\n",
       "2776              shuffled  matrix_NB006__shuffled_.mat  NB006___1902  narrow\n",
       "1209              contrast  matrix_NB002__shuffled_.mat  NB002___3004    wide\n",
       "1911          control_3sec  matrix_NB007__shuffled_.mat  NB007___2602  narrow\n",
       "2785              shuffled  matrix_NB007__shuffled_.mat  NB007___1404    wide"
      ]
     },
     "execution_count": 22,
     "metadata": {},
     "output_type": "execute_result"
    }
   ],
   "source": [
    "df.sample(15)"
   ]
  },
  {
   "cell_type": "code",
   "execution_count": 23,
   "metadata": {},
   "outputs": [],
   "source": [
    "csv_filename = \"sua_dict.csv\"\n",
    "df.to_csv(csv_filename, index=False)"
   ]
  },
  {
   "cell_type": "code",
   "execution_count": null,
   "metadata": {},
   "outputs": [],
   "source": []
  },
  {
   "cell_type": "code",
   "execution_count": null,
   "metadata": {},
   "outputs": [],
   "source": []
  },
  {
   "cell_type": "code",
   "execution_count": null,
   "metadata": {},
   "outputs": [],
   "source": []
  },
  {
   "cell_type": "code",
   "execution_count": null,
   "metadata": {},
   "outputs": [],
   "source": []
  }
 ],
 "metadata": {
  "kernelspec": {
   "display_name": "Python 2",
   "language": "python",
   "name": "python2"
  },
  "language_info": {
   "codemirror_mode": {
    "name": "ipython",
    "version": 2
   },
   "file_extension": ".py",
   "mimetype": "text/x-python",
   "name": "python",
   "nbconvert_exporter": "python",
   "pygments_lexer": "ipython2",
   "version": "2.7.15"
  }
 },
 "nbformat": 4,
 "nbformat_minor": 2
}
